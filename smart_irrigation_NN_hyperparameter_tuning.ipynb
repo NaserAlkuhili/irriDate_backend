{
 "cells": [
  {
   "cell_type": "code",
   "execution_count": 1,
   "metadata": {},
   "outputs": [],
   "source": [
    "import pandas as pd\n",
    "import numpy as np\n",
    "from sklearn.model_selection import train_test_split, GridSearchCV\n",
    "from sklearn.preprocessing import StandardScaler\n",
    "from sklearn.metrics import accuracy_score, confusion_matrix, classification_report\n",
    "from sklearn.neural_network import MLPClassifier\n",
    "import matplotlib.pyplot as plt\n",
    "import seaborn as sns\n",
    "\n",
    "# Load data\n",
    "df = pd.read_csv('smart_irrigation_data/train_data.csv')\n",
    "df_test = pd.read_csv('smart_irrigation_data/test_data.csv')\n",
    "\n",
    "# Dropping the 'date' feature if it's not relevant for training\n",
    "df = df.drop(columns=['date'])\n",
    "df_test = df_test.drop(columns=['date'])\n",
    "\n",
    "# Separate features (X) and labels (y)\n",
    "X_train = df.drop('pump', axis=1)\n",
    "y_train = df['pump']\n",
    "\n",
    "X_test = df_test.drop('pump', axis=1)\n",
    "y_test = df_test['pump']\n",
    "\n"
   ]
  },
  {
   "cell_type": "code",
   "execution_count": null,
   "metadata": {},
   "outputs": [],
   "source": [
    "# Standardize the data (fit on training, transform on both training and test sets)\n",
    "scaler = StandardScaler()\n",
    "X_train_scaled = scaler.fit_transform(X_train)\n",
    "X_test_scaled = scaler.transform(X_test)  # Use transform, not fit_transform, for test data\n",
    "\n",
    "# Define a range of hyperparameters for tuning\n",
    "param_grid = {\n",
    "    'hidden_layer_sizes': [(10, 10), (15, 15), (20, 10), (50, 50), (100,)],  # Different combinations of layers and neurons\n",
    "    'activation': ['relu', 'tanh'],  # Different activation functions\n",
    "    'solver': ['adam', 'sgd'],  # Optimizers\n",
    "    'alpha': [0.0001, 0.001, 0.01],  # L2 regularization (higher = stronger regularization)\n",
    "    'learning_rate': ['constant', 'adaptive'],  # Learning rate schedule\n",
    "    'max_iter': [1000, 2000, 3000],  # Number of iterations\n",
    "    'early_stopping': [True, False]  # Stop early if validation score stops improving\n",
    "}\n",
    "\n",
    "# Create an MLPClassifier instance\n",
    "mlp = MLPClassifier()\n",
    "\n",
    "# Use GridSearchCV to find the best combination of hyperparameters\n",
    "grid_search = GridSearchCV(mlp, param_grid, cv=5, scoring='accuracy', verbose=3)\n",
    "\n",
    "# Fit the model with training data\n",
    "grid_search.fit(X_train_scaled, y_train)\n"
   ]
  },
  {
   "cell_type": "code",
   "execution_count": 3,
   "metadata": {},
   "outputs": [
    {
     "name": "stdout",
     "output_type": "stream",
     "text": [
      "Best hyperparameters: {'activation': 'relu', 'alpha': 0.0001, 'early_stopping': False, 'hidden_layer_sizes': (50, 50), 'learning_rate': 'adaptive', 'max_iter': 2000, 'solver': 'adam'}\n"
     ]
    }
   ],
   "source": [
    "# Get the best parameters from grid search\n",
    "best_params = grid_search.best_params_\n",
    "print(f\"Best hyperparameters: {best_params}\")"
   ]
  },
  {
   "cell_type": "code",
   "execution_count": 6,
   "metadata": {},
   "outputs": [
    {
     "name": "stdout",
     "output_type": "stream",
     "text": [
      "Test accuracy of the best neural network model: 0.9877\n",
      "Accuracy on test set: 0.9877\n",
      "Classification report:\n",
      "              precision    recall  f1-score   support\n",
      "\n",
      "           0       0.99      0.98      0.99       328\n",
      "           1       0.99      0.99      0.99       403\n",
      "\n",
      "    accuracy                           0.99       731\n",
      "   macro avg       0.99      0.99      0.99       731\n",
      "weighted avg       0.99      0.99      0.99       731\n",
      "\n"
     ]
    },
    {
     "data": {
      "image/png": "[encoded data removed]",
      "text/plain": [
       "<Figure size 800x600 with 2 Axes>"
      ]
     },
     "metadata": {},
     "output_type": "display_data"
    }
   ],
   "source": [
    "# Get the best model\n",
    "best_model = grid_search.best_estimator_\n",
    "\n",
    "# Evaluate the best model on the test set\n",
    "test_accuracy = best_model.score(X_test_scaled, y_test)\n",
    "print(f\"Test accuracy of the best neural network model: {test_accuracy:.4f}\")\n",
    "\n",
    "# Optionally, evaluate the model further on the test set\n",
    "y_test_pred = best_model.predict(X_test_scaled)\n",
    "accuracy = accuracy_score(y_test, y_test_pred)\n",
    "print(f\"Accuracy on test set: {accuracy:.4f}\")\n",
    "\n",
    "# Print classification report\n",
    "print(\"Classification report:\")\n",
    "print(classification_report(y_test, y_test_pred))\n",
    "\n",
    "# Compute the confusion matrix\n",
    "conf_matrix = confusion_matrix(y_test, y_test_pred)\n",
    "\n",
    "# Plot the confusion matrix\n",
    "plt.figure(figsize=(8, 6))\n",
    "sns.heatmap(conf_matrix, annot=True, fmt='d', cmap='Greens', xticklabels=['Not Pump', 'Pump'], yticklabels=['Not Pump', 'Pump'])\n",
    "plt.ylabel('True Label')\n",
    "plt.xlabel('Predicted Label')\n",
    "plt.title('Confusion Matrix')\n",
    "plt.show()"
   ]
  }
 ],
 "metadata": {
  "kernelspec": {
   "display_name": "Python 3.12.6 ('py_envs': venv)",
   "language": "python",
   "name": "python3"
  },
  "language_info": {
   "codemirror_mode": {
    "name": "ipython",
    "version": 3
   },
   "file_extension": ".py",
   "mimetype": "text/x-python",
   "name": "python",
   "nbconvert_exporter": "python",
   "pygments_lexer": "ipython3",
   "version": "3.12.6"
  },
  "orig_nbformat": 4,
  "vscode": {
   "interpreter": {
    "hash": "2cc9280686551bac29de1efd75508e963bf4f186be3734e332f9753d1425ebd3"
   }
  }
 },
 "nbformat": 4,
 "nbformat_minor": 2
}
